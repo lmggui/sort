{
 "cells": [
  {
   "cell_type": "markdown",
   "metadata": {
    "collapsed": true
   },
   "source": [
    "# 选择排序\n"
   ]
  },
  {
   "cell_type": "code",
   "execution_count": 58,
   "metadata": {
    "collapsed": true
   },
   "outputs": [],
   "source": [
    "def selectSort(a):\n",
    "    n = len(a)\n",
    "    for i in range(n-1):\n",
    "        b = a[i:]\n",
    "        idx = findMin(b)\n",
    "        a[i],a[idx+i] = a[idx+i],a[i]\n",
    "        print(a)\n",
    "def findMin(a):\n",
    "    idx = 0\n",
    "    min_x = a[0]\n",
    "    n = len(a)\n",
    "    for i in range(n):\n",
    "        if min_x>a[i]:\n",
    "            idx = i\n",
    "            min_x = a[i]\n",
    "    return idx\n",
    "        "
   ]
  },
  {
   "cell_type": "code",
   "execution_count": 59,
   "metadata": {
    "collapsed": false
   },
   "outputs": [
    {
     "name": "stdout",
     "output_type": "stream",
     "text": [
      "[0, 9, 8, 7, 6, 5, 4, 3, 2, 1]\n",
      "[0, 1, 8, 7, 6, 5, 4, 3, 2, 9]\n",
      "[0, 1, 2, 7, 6, 5, 4, 3, 8, 9]\n",
      "[0, 1, 2, 3, 6, 5, 4, 7, 8, 9]\n",
      "[0, 1, 2, 3, 4, 5, 6, 7, 8, 9]\n",
      "[0, 1, 2, 3, 4, 5, 6, 7, 8, 9]\n",
      "[0, 1, 2, 3, 4, 5, 6, 7, 8, 9]\n",
      "[0, 1, 2, 3, 4, 5, 6, 7, 8, 9]\n",
      "[0, 1, 2, 3, 4, 5, 6, 7, 8, 9]\n"
     ]
    }
   ],
   "source": [
    "x = [0,9,8,7,6,5,4,3,2,1]\n",
    "selectSort(x)"
   ]
  },
  {
   "cell_type": "markdown",
   "metadata": {},
   "source": [
    "# 二元选择排序\n",
    "有误，等待进一步修正,如果最大值在第0位置时，会出现错误,代码有问题"
   ]
  },
  {
   "cell_type": "code",
   "execution_count": 55,
   "metadata": {
    "collapsed": false
   },
   "outputs": [],
   "source": [
    "def twoNodeSelectSort(a):\n",
    "    n = len(a)\n",
    "    for i in range(1,round(n/2)+1):\n",
    "        idx_min = i\n",
    "        idx_max = i\n",
    "        for j in range(i+1,n-i+1):\n",
    "            if a[j]>a[idx_max]:\n",
    "                idx_max = j\n",
    "            if a[j]<a[idx_min]:\n",
    "                idx_min = j\n",
    "        a[i-1],a[idx_min] = a[idx_min],a[i-1]\n",
    "        a[n-i],a[idx_max] = a[idx_max],a[n-i]\n",
    "        print(a)\n",
    "        "
   ]
  },
  {
   "cell_type": "code",
   "execution_count": 56,
   "metadata": {
    "collapsed": false
   },
   "outputs": [
    {
     "name": "stdout",
     "output_type": "stream",
     "text": [
      "[1, 0, 8, 7, 6, 5, 4, 3, 2, 9] 1 9 1 10\n",
      "[1, 2, 0, 7, 6, 5, 4, 3, 8, 9] 2 8 2 10\n",
      "[1, 2, 3, 0, 6, 5, 4, 7, 8, 9] 3 7 3 10\n",
      "[1, 2, 3, 4, 0, 5, 6, 7, 8, 9] 4 6 4 10\n",
      "[1, 2, 3, 4, 5, 0, 6, 7, 8, 9] 5 5 5 10\n"
     ]
    }
   ],
   "source": [
    "x = [0,9,8,7,6,5,4,3,2,1]\n",
    "twoNodeSelectSort(x)"
   ]
  },
  {
   "cell_type": "code",
   "execution_count": 39,
   "metadata": {
    "collapsed": false
   },
   "outputs": [
    {
     "name": "stdout",
     "output_type": "stream",
     "text": [
      "8 1\n"
     ]
    }
   ],
   "source": []
  },
  {
   "cell_type": "code",
   "execution_count": null,
   "metadata": {
    "collapsed": true
   },
   "outputs": [],
   "source": []
  }
 ],
 "metadata": {
  "anaconda-cloud": {},
  "kernelspec": {
   "display_name": "Python [default]",
   "language": "python",
   "name": "python3"
  },
  "language_info": {
   "codemirror_mode": {
    "name": "ipython",
    "version": 3
   },
   "file_extension": ".py",
   "mimetype": "text/x-python",
   "name": "python",
   "nbconvert_exporter": "python",
   "pygments_lexer": "ipython3",
   "version": "3.5.2"
  }
 },
 "nbformat": 4,
 "nbformat_minor": 1
}
