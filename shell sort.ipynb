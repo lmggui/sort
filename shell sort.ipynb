{
 "cells": [
  {
   "cell_type": "markdown",
   "metadata": {},
   "source": [
    "# 希尔排序\n",
    "### 基本思想\n",
    "将整个待排序的记录序列分割成若干子序列分别进行直接插入排序，待整个序列中的记录基本有序是再对全体记录进行依次直接插入排序"
   ]
  },
  {
   "cell_type": "code",
   "execution_count": 8,
   "metadata": {
    "collapsed": true
   },
   "outputs": [],
   "source": [
    "def shellSort(a):\n",
    "    n = len(a)\n",
    "    d = round(n/2)\n",
    "    while d>=1:\n",
    "        for i in range(d):\n",
    "            for j in range(i+1,n,d):\n",
    "                k = j-d\n",
    "                x = a[j]\n",
    "                while x<a[k]:\n",
    "                    a[k+d] = a[k]\n",
    "                    k = k-d\n",
    "                    if k<0:\n",
    "                        break\n",
    "                a[k+d] = x\n",
    "        d = round(d/2)\n",
    "        print(a)"
   ]
  },
  {
   "cell_type": "code",
   "execution_count": 9,
   "metadata": {
    "collapsed": false
   },
   "outputs": [
    {
     "name": "stdout",
     "output_type": "stream",
     "text": [
      "[-3, 2, 3, 6, 3, 6, 1, -4, 5, 2, 5]\n",
      "[-3, -4, 5, 1, 2, 5, 2, 3, 6, 6, 3]\n",
      "[-4, 1, -3, 3, 2, 3, 2, 5, 5, 6, 6]\n",
      "[-4, -3, 1, 2, 2, 3, 3, 5, 5, 6, 6]\n"
     ]
    }
   ],
   "source": [
    "x = [1,-3,-4,5,2,5,2,6,3,6,3]\n",
    "shellSort(x)"
   ]
  },
  {
   "cell_type": "markdown",
   "metadata": {},
   "source": [
    "还是利用直接插入排序的方式，只不过我们是要隔d隔数进行排序  \n",
    "d的选择有多种，不一定非是2的倍数，只不过最后一个一定要是1  \n",
    "希尔排序是一种不稳定的排序方法"
   ]
  },
  {
   "cell_type": "code",
   "execution_count": null,
   "metadata": {
    "collapsed": true
   },
   "outputs": [],
   "source": []
  }
 ],
 "metadata": {
  "anaconda-cloud": {},
  "kernelspec": {
   "display_name": "Python [default]",
   "language": "python",
   "name": "python3"
  },
  "language_info": {
   "codemirror_mode": {
    "name": "ipython",
    "version": 3
   },
   "file_extension": ".py",
   "mimetype": "text/x-python",
   "name": "python",
   "nbconvert_exporter": "python",
   "pygments_lexer": "ipython3",
   "version": "3.5.2"
  }
 },
 "nbformat": 4,
 "nbformat_minor": 1
}
