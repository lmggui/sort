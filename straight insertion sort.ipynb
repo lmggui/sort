{
 "cells": [
  {
   "cell_type": "markdown",
   "metadata": {},
   "source": [
    "# 直接插入排序\n",
    "将数据插入到已经排序好的有序表中  \n",
    "设立哨兵，作为临时存储和判断数组边界的用处\n"
   ]
  },
  {
   "cell_type": "code",
   "execution_count": 1,
   "metadata": {
    "collapsed": false
   },
   "outputs": [],
   "source": [
    "def insertSort(a):         # a is a list\n",
    "    n = len(a)\n",
    "    for i in range(1,n):   #从第二个数据开始插入\n",
    "        j = i-1            #哨兵的位置\n",
    "        x = a[i]      \n",
    "        while (x<a[j]):   #如果数据小的话则数据依次往后排\n",
    "            a[j+1] = a[j]\n",
    "            j = j-1\n",
    "            if j<0:       #判断还前面还有没有数据，没有的话则不再比较\n",
    "                break            \n",
    "        a[j+1] = x        #插入到最后一个比它大的前面，如果两个数一样大，后面的数在后面\n",
    "        print(a,i)\n",
    "        "
   ]
  },
  {
   "cell_type": "code",
   "execution_count": 2,
   "metadata": {
    "collapsed": false
   },
   "outputs": [
    {
     "name": "stdout",
     "output_type": "stream",
     "text": [
      "[2, 7, 6, 4, 3, 2, 7, 4, 5] 1\n",
      "[2, 6, 7, 4, 3, 2, 7, 4, 5] 2\n",
      "[2, 4, 6, 7, 3, 2, 7, 4, 5] 3\n",
      "[2, 3, 4, 6, 7, 2, 7, 4, 5] 4\n",
      "[2, 2, 3, 4, 6, 7, 7, 4, 5] 5\n",
      "[2, 2, 3, 4, 6, 7, 7, 4, 5] 6\n",
      "[2, 2, 3, 4, 4, 6, 7, 7, 5] 7\n",
      "[2, 2, 3, 4, 4, 5, 6, 7, 7] 8\n"
     ]
    }
   ],
   "source": [
    "x = [2,7,6,4,3,2,7,4,5]\n",
    "insertSort(x)"
   ]
  },
  {
   "cell_type": "markdown",
   "metadata": {},
   "source": [
    "直接插入排序时间复杂度：O（n^2）  \n",
    "由于相等元素的前后顺序没有改变，所以插入排序是稳定的  \n",
    "直接插入排序没有用到新的存储，空间复杂度为："
   ]
  },
  {
   "cell_type": "code",
   "execution_count": null,
   "metadata": {
    "collapsed": true
   },
   "outputs": [],
   "source": []
  }
 ],
 "metadata": {
  "anaconda-cloud": {},
  "kernelspec": {
   "display_name": "Python [default]",
   "language": "python",
   "name": "python3"
  },
  "language_info": {
   "codemirror_mode": {
    "name": "ipython",
    "version": 3
   },
   "file_extension": ".py",
   "mimetype": "text/x-python",
   "name": "python",
   "nbconvert_exporter": "python",
   "pygments_lexer": "ipython3",
   "version": "3.5.2"
  }
 },
 "nbformat": 4,
 "nbformat_minor": 1
}
